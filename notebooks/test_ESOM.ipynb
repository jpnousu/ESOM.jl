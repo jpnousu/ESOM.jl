{
 "cells": [
  {
   "cell_type": "code",
   "execution_count": 1,
   "metadata": {},
   "outputs": [],
   "source": [
    "using ESOM"
   ]
  },
  {
   "cell_type": "code",
   "execution_count": 2,
   "metadata": {},
   "outputs": [
    {
     "name": "stdout",
     "output_type": "stream",
     "text": [
      "[0.0, 0.0, 0.3, 0.3, 0.6, 0.6, 4.199999999999999, 93.5, 93.5, 93.5, 0.0]\n"
     ]
    }
   ],
   "source": [
    "f = ESOM.create_interpolation_functions();\n",
    "params = ESOM.create_parameters();\n",
    "initial_masses = ESOM.initialize_storages(params);\n",
    "B = ESOM.create_initial_B_matrix(initial_masses);\n",
    "println(B)"
   ]
  },
  {
   "cell_type": "code",
   "execution_count": 4,
   "metadata": {},
   "outputs": [
    {
     "name": "stdout",
     "output_type": "stream",
     "text": [
      "[0.0, 0.0, 0.2776979683025788, 0.2996705051696553, 0.6049441125249616, 0.5848199922874965, 4.22342656267823, 93.41166337445938, 93.4803660308375, 93.49803651030837, 0.11937494343182745]\n"
     ]
    }
   ],
   "source": [
    "# These should be updated every timestep\n",
    "forc = ESOM.Forcing(20.0, 20.0, 20.0, 20.0, 0.5, 0.5, 0.5, 0.5);\n",
    "rates = ESOM.calculate_rates(forc, params, f)\n",
    "A = ESOM.construct_A_matrix(params, rates);\n",
    "B = ESOM.compute_A_x_B(A, B);\n",
    "#save_results()\n",
    "println(B)"
   ]
  },
  {
   "cell_type": "code",
   "execution_count": null,
   "metadata": {},
   "outputs": [],
   "source": []
  }
 ],
 "metadata": {
  "kernelspec": {
   "display_name": "Julia 1.11.2",
   "language": "julia",
   "name": "julia-1.11"
  },
  "language_info": {
   "file_extension": ".jl",
   "mimetype": "application/julia",
   "name": "julia",
   "version": "1.11.2"
  }
 },
 "nbformat": 4,
 "nbformat_minor": 2
}
